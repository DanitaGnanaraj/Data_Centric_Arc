{
 "cells": [
  {
   "cell_type": "code",
   "execution_count": null,
   "metadata": {
    "collapsed": true
   },
   "outputs": [],
   "source": [
    "#Download data\n",
    "import json\n",
    "import urllib2\n",
    "\n",
    "scdp_newjob_url='http://sensorcity-api.kxa.nl/newjob'\n",
    "scdp_status_url='http://sensorcity-api.kxa.nl/status'\n",
    "scdp_download_url='http://sensorcity-api.kxa.nl/download'\n"
   ]
  },
  {
   "cell_type": "code",
   "execution_count": null,
   "metadata": {
    "collapsed": false
   },
   "outputs": [],
   "source": [
    "import getpass\n",
    "\n",
    "#scdp_user=getpass.getpass('User name: ')\n",
    "scdp_user=\"kevin_hanze\"\n",
    "scdp_pw=getpass.getpass('User password: ')\n",
    "\n",
    "#scdp_pw=\"\""
   ]
  },
  {
   "cell_type": "code",
   "execution_count": null,
   "metadata": {
    "collapsed": false
   },
   "outputs": [],
   "source": [
    "data=json.dumps(\n",
    "{\n",
    "    \"username\": scdp_user,\n",
    "    \"password\": scdp_pw,\n",
    "    \"job\": {\n",
    "    \"name\": \"newalarmtest\",\n",
    "    \"datetime-start\": \"2016-sep-20 11:59:00\",\n",
    "    \"datetime-end\": \"2016-sep-20 12:02:00\",\n",
    "    \"type\":\"audio\",\n",
    "    \"format\":\"wav\",\n",
    "    \"sensors\": [\"45-AU-1\",\"51-AU-1\",\"93-AU-1\",\"156-AU-1\",\"167-AU-1\",\"171-AU-1\",\"208-AU-1\",\"98-AU-1\",\"107-AU-1\",\"14-AU-1\",\"20-AU-1\",\"28-AU-1\",\"29-AU-1\",\"41-AU-1\",\"42-AU-1\",\"53-AU-1\",\"59-AU-1\",\"68-AU-1\",\"140-AU-1\",\"170-AU-1\",\"201-AU-1\",\"202-AU-1\",\"213-AU-1\",\"6-AU-1\",\"158-AU-1\",\"187-AU-1\",\"111-AU-1\",\"27-AU-1\",\"85-AU-1\",\"103-AU-1\",\"149-AU-1\",]\n",
    "    }\n",
    "  \n",
    "})\n",
    "\n",
    "\n",
    "'''\n",
    "\n",
    "'''\n",
    "clen = len(data)\n",
    "\n",
    "req = urllib2.Request(scdp_newjob_url, data, {'Content-Type': 'application/json', 'Content-Length': clen})\n",
    "f = urllib2.urlopen(req)\n",
    "response = f.read()\n",
    "f.close()\n",
    "print response\n",
    "\n"
   ]
  },
  {
   "cell_type": "code",
   "execution_count": null,
   "metadata": {
    "collapsed": false
   },
   "outputs": [],
   "source": [
    "# Get status update use job-id obtained in previous step\n",
    "import time\n",
    "\n",
    "response_dict=json.loads(response)\n",
    "jobid=response_dict[u'job'][u'job-id']\n",
    "\n",
    "#jobid=1803612\n",
    "#jobid=1803761\n",
    "data=json.dumps(\n",
    "{\n",
    "    \"username\": scdp_user,\n",
    "    \"password\": scdp_pw,\n",
    "    \"job-id\": jobid\n",
    "  }\n",
    ")\n",
    "\n",
    "clen = len(data)\n",
    "\n",
    "waiting=True\n",
    "    \n",
    "while waiting:\n",
    "        req = urllib2.Request(scdp_status_url, data, {'Content-Type': 'application/json', 'Content-Length': clen})\n",
    "        f = urllib2.urlopen(req)\n",
    "        status = f.read()\n",
    "        f.close()\n",
    "        status_dict=json.loads(status)\n",
    "        if status_dict[u'job'][u'status'] == 'finished':\n",
    "            waiting=False\n",
    "        else:\n",
    "            print status_dict[u'job'][u'status']\n",
    "            time.sleep(5) #Sleep for x seconds between checks\n",
    "\n",
    "print status_dict[u'job'][u'status']"
   ]
  },
  {
   "cell_type": "code",
   "execution_count": null,
   "metadata": {
    "collapsed": false
   },
   "outputs": [],
   "source": [
    "# Download the data\n",
    "\n",
    "clen = len(data)\n",
    "\n",
    "req = urllib2.Request(scdp_download_url, data, {'Content-Type': 'application/json', 'Content-Length': clen})\n",
    "\n",
    "try:\n",
    "    f = urllib2.urlopen(req)\n",
    "    zipfile = open('rawwavfiles.zip','w')\n",
    "    zipfile.write(f.read())\n",
    "    zipfile.close()\n",
    "    f.close()\n",
    "    \n",
    "#handle errors\n",
    "except HTTPError, e:\n",
    "    print \"HTTP Error:\", e.code, url\n",
    "except URLError, e:\n",
    "    print \"URL Error:\", e.reason, url"
   ]
  },
  {
   "cell_type": "code",
   "execution_count": null,
   "metadata": {
    "collapsed": false
   },
   "outputs": [],
   "source": [
    "#Delete old folder to be sure that no old files will be analysed\n",
    "rm -rf sounddata"
   ]
  },
  {
   "cell_type": "code",
   "execution_count": null,
   "metadata": {
    "collapsed": false
   },
   "outputs": [],
   "source": [
    "from zipfile import ZipFile\n",
    "#Extract data from zip\n",
    "zip_ref = ZipFile(\"rawwavfiles.zip\", 'r')\n",
    "zip_ref.extractall(\"sounddata\")\n",
    "zip_ref.close()"
   ]
  },
  {
   "cell_type": "code",
   "execution_count": null,
   "metadata": {
    "collapsed": false
   },
   "outputs": [],
   "source": [
    "#Configure sound analysis\n",
    "%run ~/soundannotatordemo/soundannotatordemo/projects/simple/soundAnnotator.py  -c --noofscales 100 --inputrate 44100 --outdir ~/data --decimation 2"
   ]
  },
  {
   "cell_type": "code",
   "execution_count": null,
   "metadata": {
    "collapsed": false,
    "scrolled": false
   },
   "outputs": [],
   "source": [
    "#Perform sound analysis on each file in sounddata folder\n",
    "\n",
    "%run ~/soundannotatordemo/soundannotatordemo/projects/simple/soundAnnotator.py --PTNE  --ptnblockwidth 0.1 --noofscales 100 --inputrate 96000 --outdir ~/data --decimation 2 --wav ~/SensorCity/sounddata/\n"
   ]
  },
  {
   "cell_type": "code",
   "execution_count": 1,
   "metadata": {
    "collapsed": false
   },
   "outputs": [],
   "source": [
    "import os\n",
    "\n",
    "# d='E:\\Users\\Kevin\\Google Drive\\MasterSSE\\Advanced Data Analysis'\n",
    "# hdfdirs = [os.path.join(d,o) for o in os.listdir(d) if os.path.isdir(os.path.join(d,o))]\n",
    "# hdfdirs[0]\n",
    "\n",
    "# #Find folder which contains the ptne data\n",
    "# for n,line in enumerate(hdfdirs):\n",
    "#     #print hdfdirs[n]\n",
    "#     if (os.path.isdir(os.path.join(hdfdirs[n],'ptne/')) == 1):\n",
    "#         print \"PTNE FOLDER FOUND: \" + hdfdirs[n] + \"\\n\"\n",
    "#         ptnefolder = os.path.join(hdfdirs[n],'ptne/hdf5')\n",
    "        \n",
    "# d=ptnefolder\n",
    "# currentdatefolder = [os.path.join(d,o) for o in os.listdir(d) if os.path.isdir(os.path.join(d,o))]\n",
    "# ptnefolder = os.path.join(ptnefolder,currentdatefolder[0])\n",
    "\n",
    "#ptnefolder = \"E:\\Users\\Kevin\\Google Drive\\MasterSSE\\Advanced Data Analysis\\hdf5files\\GIT_cc14a7a227c856aee6e0b541b97a77aabb8d3307-2016-10-15-13-56\\ptne\\hdf5\\\"\n",
    "\n",
    "ptnefolder = 'E:\\\\Users\\\\Kevin\\\\Google Drive\\\\MasterSSE\\\\Advanced Data Analysis\\\\hdf5files\\\\GIT_cc14a7a227c856aee6e0b541b97a77aabb8d3307-2016-10-15-13-56\\\\ptne\\\\hdf5\\\\2016-10-15'"
   ]
  },
  {
   "cell_type": "code",
   "execution_count": 3,
   "metadata": {
    "collapsed": false,
    "scrolled": false
   },
   "outputs": [
    {
     "name": "stdout",
     "output_type": "stream",
     "text": [
      "Using matplotlib backend: Qt5Agg\n",
      "103:   58.8775\n",
      "107:   60.5376\n",
      "111:   59.8553\n",
      "14:   56.8687\n",
      "140:   60.3894\n",
      "149:   62.2716\n",
      "156:   62.8035\n",
      "158:   37.4962\n",
      "167:   39.845\n",
      "170:   55.4812\n",
      "171:   61.2673\n",
      "187:   47.4162\n",
      "20:   57.3992\n",
      "201:   68.4814\n",
      "202:   59.625\n",
      "208:   43.4782\n",
      "213:   58.9486\n",
      "27:   44.3194\n",
      "28:   57.0138\n",
      "29:   48.738\n",
      "41:   59.4212\n",
      "42:   62.1834\n",
      "45:   -inf\n",
      "51:   57.9214\n",
      "53:   57.5754\n",
      "59:   64.6204\n",
      "6:   58.741\n",
      "68:   61.1767\n",
      "85:   61.2654\n",
      "93:   57.9285\n",
      "98:   61.6538\n"
     ]
    }
   ],
   "source": [
    "# Analyze HDF5 files\n",
    "%matplotlib\n",
    "import h5py\n",
    "import numpy as np\n",
    "import os\n",
    "import matplotlib.pyplot as plt\n",
    "ptnefolder = 'E:\\\\Users\\\\Kevin\\\\Google Drive\\\\MasterSSE\\\\Advanced Data Analysis\\\\hdf5files\\\\GIT_cc14a7a227c856aee6e0b541b97a77aabb8d3307-2016-10-15-13-56\\\\ptne\\\\hdf5\\\\2016-10-15'\n",
    "\n",
    "for filename in os.listdir(ptnefolder):\n",
    "    #print filename\n",
    "    filepath = os.path.join(ptnefolder,filename)\n",
    "    \n",
    "    with h5py.File(filepath,'r') as hf:\n",
    "        datae = hf.get('energy')\n",
    "        np_datae = np.array(datae)\n",
    "        \n",
    "        datan = hf.get('noise')\n",
    "        np_datan = np.array(datan)\n",
    "    \n",
    "        datap = hf.get('pulse')\n",
    "        np_datap = np.array(datap)\n",
    "\n",
    "        datat = hf.get('tone')\n",
    "        np_datat = np.array(datat)\n",
    "        \n",
    "        if(True):\n",
    "            #print('shape:',np_datae.shape)\n",
    "            F, (ax1, ax2, ax3, ax4) = plt.subplots(4, sharex=True)\n",
    "            ax1.imshow(np_datae[:18,270:1350], interpolation='nearest',aspect='auto')\n",
    "            ax1.set_title('E')\n",
    "            ax2.imshow(np_datan[:18,270:1350], interpolation='nearest',aspect='auto')\n",
    "            ax2.set_title('N')\n",
    "            ax3.imshow(np_datap[:18,270:1350], interpolation='nearest', aspect='auto')\n",
    "            ax3.set_title('P')\n",
    "            ax4.imshow(np_datat[:18,270:1350], interpolation='nearest', aspect='auto')\n",
    "            ax4.set_title('T')\n",
    "            F.canvas.set_window_title(filename)\n",
    "            F.tight_layout()\n",
    "            \n",
    "            print filename[:-5] + ':   ' + str(np.average(np_datae[5,270:1350]))\n",
    "            \n",
    "            #Uncomment to save files\n",
    "            #files = filename[:-5] + '.jpeg'\n",
    "            #F.savefig(files)\n",
    "        \n",
    "        if(True):\n",
    "            test = 0\n",
    "        \n",
    "plt.show()"
   ]
  },
  {
   "cell_type": "markdown",
   "metadata": {
    "collapsed": true
   },
   "source": [
    "# List of sensors and their status\n",
    "\n",
    "| Sensor        | Status           | Notes  |\n",
    "| :-------------: |:-------------:| :-----:|\n",
    "|    6   | Working |  |\n",
    "|    14   | Working |  |\n",
    "|     20  | Working |  |\n",
    "|   28    | Working |  |\n",
    "|    41   | Working |  |\n",
    "|   42    |Working  |  |\n",
    "|     51  |  Working|  |\n",
    "|    53   | Working |  |\n",
    "|    59   | Working |  |\n",
    "|   68    |Working  |  |\n",
    "|   85    | Working |  |\n",
    "|    93   | Working |  |\n",
    "|    98   |Working  |  |\n",
    "|    103   | Working |  |\n",
    "|   107    | Working |  (has a high tone throughout the entire sample)|\n",
    "|   111    | Working |  |\n",
    "|   140    | Working |  |\n",
    "|   149    | Working |  |\n",
    "|   156    | Working |  |\n",
    "|   170    | Working |  |\n",
    "|     171  | Working |  |\n",
    "|    201   | Working |  |\n",
    "|   202    |  Working| Static noise throughout sample |\n",
    "|   213    |Working  |  cannot pick up siren|\n",
    "|    27   | Not Working |  |\n",
    "|    29   | Not Working |  |\n",
    "|   45    | Not Working |  |\n",
    "|    158   | Not Working |  |\n",
    "|     167  | Not Working |  |\n",
    "|    187   | Not Working |  |\n",
    "|   208    |Not Working  | Vibrations/static |"
   ]
  },
  {
   "cell_type": "code",
   "execution_count": 15,
   "metadata": {
    "collapsed": false
   },
   "outputs": [
    {
     "name": "stdout",
     "output_type": "stream",
     "text": [
      "123\n"
     ]
    }
   ],
   "source": []
  },
  {
   "cell_type": "code",
   "execution_count": null,
   "metadata": {
    "collapsed": true
   },
   "outputs": [],
   "source": []
  }
 ],
 "metadata": {
  "anaconda-cloud": {},
  "kernelspec": {
   "display_name": "Python [conda root]",
   "language": "python",
   "name": "conda-root-py"
  },
  "language_info": {
   "codemirror_mode": {
    "name": "ipython",
    "version": 2
   },
   "file_extension": ".py",
   "mimetype": "text/x-python",
   "name": "python",
   "nbconvert_exporter": "python",
   "pygments_lexer": "ipython2",
   "version": "2.7.12"
  }
 },
 "nbformat": 4,
 "nbformat_minor": 0
}
