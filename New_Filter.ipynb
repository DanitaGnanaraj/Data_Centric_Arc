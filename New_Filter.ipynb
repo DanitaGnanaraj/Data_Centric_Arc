{
 "cells": [
  {
   "cell_type": "code",
   "execution_count": 1,
   "metadata": {
    "collapsed": true
   },
   "outputs": [],
   "source": [
    "from numpy import cos, sin, pi, absolute, arange\n",
    "from scipy.signal import kaiserord, lfilter, firwin, freqz\n",
    "from pylab import figure, clf, plot, xlabel, ylabel, xlim, ylim, title, grid, axes, show\n"
   ]
  },
  {
   "cell_type": "code",
   "execution_count": 17,
   "metadata": {
    "collapsed": true
   },
   "outputs": [],
   "source": [
    "sample_rate = 100.0\n",
    "nsamples = 300\n",
    "t = arange(nsamples) / sample_rate\n",
    "\n",
    "x = cos(2*pi*0.5*t) + 0.2*sin(2*pi*2.5*t+0.1) + \\\n",
    "        0.2*sin(2*pi*15.3*t) + 0.1*sin(2*pi*16.7*t + 0.1) + \\\n",
    "            0.1*sin(2*pi*23.45*t+.8)"
   ]
  },
  {
   "cell_type": "code",
   "execution_count": 26,
   "metadata": {
    "collapsed": false
   },
   "outputs": [],
   "source": [
    "import FixedPoint\n",
    "import numpy as np\n",
    "\n",
    "class getX1:\n",
    "    def __init__(self , fixedOrFloat, bitLength):\n",
    "        if self.fixedOrFloat == 1:\n",
    "            family = FixedPoint.FXfamily(self.bitLength)\n",
    "            x1 = np.array([])\n",
    "            for val in x:  \n",
    "                val = float(val)\n",
    "                F32x = FixedPoint.FXnum(val, family)\n",
    "                x1 = np.append(x1,F32x)\n",
    "        if self.fixedOrFloat == 0:\n",
    "            if bitLength == 16:\n",
    "                x1 = np.float16(x)\n",
    "            if bitLength == 32:\n",
    "                x1 = np.float32(x)\n",
    "            \n",
    "            \n",
    "            \n",
    "            "
   ]
  }
 ],
 "metadata": {
  "kernelspec": {
   "display_name": "Python 2",
   "language": "python",
   "name": "python2"
  },
  "language_info": {
   "codemirror_mode": {
    "name": "ipython",
    "version": 2
   },
   "file_extension": ".py",
   "mimetype": "text/x-python",
   "name": "python",
   "nbconvert_exporter": "python",
   "pygments_lexer": "ipython2",
   "version": "2.7.12"
  }
 },
 "nbformat": 4,
 "nbformat_minor": 1
}
